{
 "cells": [
  {
   "cell_type": "code",
   "execution_count": null,
   "metadata": {
    "notebookRunGroups": {
     "groupValue": "2"
    }
   },
   "outputs": [],
   "source": [
    "from transformers import AutoTokenizer, AutoModelForCausalLM\n",
    "from dotenv import load_dotenv\n",
    "from huggingface_hub import login\n",
    "import os \n",
    "\n",
    "# llama_model = \"meta-llama/Llama-2-7b\"\n",
    "codegen_model = \"Salesforce/codegen-6B-mono\"\n",
    "\n",
    "load_dotenv()\n",
    "api_token = os.getenv(\"llama_token\")\n",
    "login(token=api_token)\n",
    "\n",
    "try:\n",
    "    codegen_tokenizer = AutoTokenizer.from_pretrained(codegen_model, token=api_token)\n",
    "    codegen_model = AutoModelForCausalLM.from_pretrained(codegen_model, token=api_token)\n",
    "    print(\"CodeGen model and tokenizer loaded successfully!\")\n",
    "\n",
    "except Exception as e:\n",
    "    print(f\"Error when loading models: {e}\")\n",
    "\n",
    "def generate_code(prompt, max_length=100):\n",
    "    inputs = codegen_tokenizer(prompt, return_tensors=\"pt\")\n",
    "    outputs = codegen_model.generate(inputs[\"input_ids\"], max_length=max_length)\n",
    "    return codegen_tokenizer.decode(outputs[0], skip_special_tokens=True)\n",
    "\n",
    "\n",
    "code_prompt = \"write a fibonacci function on python\"\n",
    "\n",
    "generated_code = generate_code(code_prompt)\n",
    "\n",
    "print(\"\\nGenerated Code:\")\n",
    "print(generated_code)\n"
   ]
  }
 ],
 "metadata": {
  "kernelspec": {
   "display_name": "Python 3",
   "language": "python",
   "name": "python3"
  },
  "language_info": {
   "codemirror_mode": {
    "name": "ipython",
    "version": 3
   },
   "file_extension": ".py",
   "mimetype": "text/x-python",
   "name": "python",
   "nbconvert_exporter": "python",
   "pygments_lexer": "ipython3",
   "version": "3.12.4"
  }
 },
 "nbformat": 4,
 "nbformat_minor": 2
}
